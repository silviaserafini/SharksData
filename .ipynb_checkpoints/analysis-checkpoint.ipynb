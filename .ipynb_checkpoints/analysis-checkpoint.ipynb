{
 "cells": [
  {
   "cell_type": "code",
   "execution_count": 134,
   "metadata": {},
   "outputs": [
    {
     "data": {
      "text/html": [
       "<div>\n",
       "<style>\n",
       "    .dataframe thead tr:only-child th {\n",
       "        text-align: right;\n",
       "    }\n",
       "\n",
       "    .dataframe thead th {\n",
       "        text-align: left;\n",
       "    }\n",
       "\n",
       "    .dataframe tbody tr th {\n",
       "        vertical-align: top;\n",
       "    }\n",
       "</style>\n",
       "<table border=\"1\" class=\"dataframe\">\n",
       "  <thead>\n",
       "    <tr style=\"text-align: right;\">\n",
       "      <th></th>\n",
       "      <th>Unnamed: 0</th>\n",
       "      <th>Case Number</th>\n",
       "      <th>Date</th>\n",
       "      <th>Year</th>\n",
       "      <th>Type</th>\n",
       "      <th>Country</th>\n",
       "      <th>Area</th>\n",
       "      <th>Location</th>\n",
       "      <th>Activity</th>\n",
       "      <th>Name</th>\n",
       "      <th>Sex</th>\n",
       "      <th>Age</th>\n",
       "      <th>Injury</th>\n",
       "      <th>Time</th>\n",
       "      <th>Fatal</th>\n",
       "      <th>NotFatal</th>\n",
       "      <th>Species</th>\n",
       "    </tr>\n",
       "  </thead>\n",
       "  <tbody>\n",
       "    <tr>\n",
       "      <th>0</th>\n",
       "      <td>17</td>\n",
       "      <td>2018.04.30.R</td>\n",
       "      <td>Reported 30-Apr-2018</td>\n",
       "      <td>2018</td>\n",
       "      <td>Unprovoked</td>\n",
       "      <td>THAILAND</td>\n",
       "      <td>Hua Hin</td>\n",
       "      <td>Sai Noi Beach</td>\n",
       "      <td>Swimming</td>\n",
       "      <td>female</td>\n",
       "      <td>M</td>\n",
       "      <td>unknown</td>\n",
       "      <td>Minor injury to ankle</td>\n",
       "      <td>unknown</td>\n",
       "      <td>0</td>\n",
       "      <td>1</td>\n",
       "      <td>tiger</td>\n",
       "    </tr>\n",
       "    <tr>\n",
       "      <th>1</th>\n",
       "      <td>14</td>\n",
       "      <td>2018.05.00</td>\n",
       "      <td>May 2018</td>\n",
       "      <td>2018</td>\n",
       "      <td>Provoked</td>\n",
       "      <td>AUSTRALIA</td>\n",
       "      <td>Westerm Australia</td>\n",
       "      <td>Dugong Bay</td>\n",
       "      <td>Feeding sharks</td>\n",
       "      <td>Melisa Brunning</td>\n",
       "      <td>F</td>\n",
       "      <td>34</td>\n",
       "      <td>Shallow lacerations to finger PROVOKED INCIDENT</td>\n",
       "      <td>unknown</td>\n",
       "      <td>0</td>\n",
       "      <td>1</td>\n",
       "      <td>blacktip</td>\n",
       "    </tr>\n",
       "    <tr>\n",
       "      <th>2</th>\n",
       "      <td>37</td>\n",
       "      <td>2018.03.09.b</td>\n",
       "      <td>9-Mar-2018</td>\n",
       "      <td>2018</td>\n",
       "      <td>Unprovoked</td>\n",
       "      <td>AUSTRALIA</td>\n",
       "      <td>Victoria</td>\n",
       "      <td>Lorne</td>\n",
       "      <td>Swimming</td>\n",
       "      <td>Rob Crossland</td>\n",
       "      <td>M</td>\n",
       "      <td>69</td>\n",
       "      <td>No injury, said to have been charged by sharks...</td>\n",
       "      <td>15h30</td>\n",
       "      <td>0</td>\n",
       "      <td>1</td>\n",
       "      <td>unknown</td>\n",
       "    </tr>\n",
       "    <tr>\n",
       "      <th>3</th>\n",
       "      <td>38</td>\n",
       "      <td>2018.03.09.a</td>\n",
       "      <td>9-Mar-2018</td>\n",
       "      <td>2018</td>\n",
       "      <td>Unprovoked</td>\n",
       "      <td>AUSTRALIA</td>\n",
       "      <td>Victoria</td>\n",
       "      <td>Winkipop</td>\n",
       "      <td>Surfing</td>\n",
       "      <td>Lachie Brown</td>\n",
       "      <td>M</td>\n",
       "      <td>18</td>\n",
       "      <td>Minor injury, ankle grazed</td>\n",
       "      <td>07h30</td>\n",
       "      <td>0</td>\n",
       "      <td>1</td>\n",
       "      <td>wobbegong</td>\n",
       "    </tr>\n",
       "    <tr>\n",
       "      <th>4</th>\n",
       "      <td>35</td>\n",
       "      <td>2018.03.31</td>\n",
       "      <td>31-Mar-2018</td>\n",
       "      <td>2018</td>\n",
       "      <td>Unprovoked</td>\n",
       "      <td>USA</td>\n",
       "      <td>Hawaii</td>\n",
       "      <td>Kukio Beach</td>\n",
       "      <td>Stand-Up Paddleboarding</td>\n",
       "      <td>male</td>\n",
       "      <td>M</td>\n",
       "      <td>25</td>\n",
       "      <td>Injuries to right leg &amp; hand</td>\n",
       "      <td>09h30</td>\n",
       "      <td>0</td>\n",
       "      <td>1</td>\n",
       "      <td>small</td>\n",
       "    </tr>\n",
       "  </tbody>\n",
       "</table>\n",
       "</div>"
      ],
      "text/plain": [
       "   Unnamed: 0   Case Number                  Date  Year        Type  \\\n",
       "0          17  2018.04.30.R  Reported 30-Apr-2018  2018  Unprovoked   \n",
       "1          14    2018.05.00              May 2018  2018    Provoked   \n",
       "2          37  2018.03.09.b            9-Mar-2018  2018  Unprovoked   \n",
       "3          38  2018.03.09.a            9-Mar-2018  2018  Unprovoked   \n",
       "4          35    2018.03.31           31-Mar-2018  2018  Unprovoked   \n",
       "\n",
       "     Country               Area       Location                 Activity  \\\n",
       "0   THAILAND            Hua Hin  Sai Noi Beach                 Swimming   \n",
       "1  AUSTRALIA  Westerm Australia     Dugong Bay           Feeding sharks   \n",
       "2  AUSTRALIA           Victoria          Lorne                 Swimming   \n",
       "3  AUSTRALIA           Victoria       Winkipop                  Surfing   \n",
       "4        USA             Hawaii    Kukio Beach  Stand-Up Paddleboarding   \n",
       "\n",
       "              Name Sex       Age  \\\n",
       "0           female    M  unknown   \n",
       "1  Melisa Brunning    F       34   \n",
       "2    Rob Crossland    M       69   \n",
       "3     Lachie Brown    M       18   \n",
       "4             male    M       25   \n",
       "\n",
       "                                              Injury     Time Fatal NotFatal  \\\n",
       "0                              Minor injury to ankle  unknown     0        1   \n",
       "1    Shallow lacerations to finger PROVOKED INCIDENT  unknown     0        1   \n",
       "2  No injury, said to have been charged by sharks...    15h30     0        1   \n",
       "3                         Minor injury, ankle grazed    07h30     0        1   \n",
       "4                       Injuries to right leg & hand    09h30     0        1   \n",
       "\n",
       "     Species  \n",
       "0      tiger  \n",
       "1   blacktip  \n",
       "2    unknown  \n",
       "3  wobbegong  \n",
       "4      small  "
      ]
     },
     "metadata": {},
     "output_type": "display_data"
    },
    {
     "name": "stdout",
     "output_type": "stream",
     "text": [
      "(5627, 17)\n"
     ]
    }
   ],
   "source": [
    "import pandas as pd\n",
    "\n",
    "data = pd.read_csv (r\"/Users/silviaserafini/ironhack/PROGETTI/SharksData/sharks_clean.csv\",encoding='latin-1')\n",
    "df = pd.DataFrame(data)\n",
    "display(df.head())\n",
    "print(df.shape)\n"
   ]
  },
  {
   "cell_type": "code",
   "execution_count": 177,
   "metadata": {},
   "outputs": [
    {
     "ename": "SyntaxError",
     "evalue": "unexpected EOF while parsing (<ipython-input-177-2e980300f7c2>, line 4)",
     "output_type": "error",
     "traceback": [
      "\u001b[0;36m  File \u001b[0;32m\"<ipython-input-177-2e980300f7c2>\"\u001b[0;36m, line \u001b[0;32m4\u001b[0m\n\u001b[0;31m    #transformation of\u001b[0m\n\u001b[0m                       ^\u001b[0m\n\u001b[0;31mSyntaxError\u001b[0m\u001b[0;31m:\u001b[0m unexpected EOF while parsing\n"
     ]
    }
   ],
   "source": [
    "df[\"fiveYears\"] = pd.cut(df.Year, bins=[1979,1984,1989,1994,1999,2004,2009,2014,2019],\n",
    "                         labels=['1975-1979','1980-1989','1985-1989','1990-1994','1995-1999','2000-2004','2005-2009','2010-2014','2015-2019']\n",
    "\n",
    "#transformation of "
   ]
  },
  {
   "cell_type": "code",
   "execution_count": 178,
   "metadata": {},
   "outputs": [
    {
     "data": {
      "text/html": [
       "<div>\n",
       "<style>\n",
       "    .dataframe thead tr:only-child th {\n",
       "        text-align: right;\n",
       "    }\n",
       "\n",
       "    .dataframe thead th {\n",
       "        text-align: left;\n",
       "    }\n",
       "\n",
       "    .dataframe tbody tr th {\n",
       "        vertical-align: top;\n",
       "    }\n",
       "</style>\n",
       "<table border=\"1\" class=\"dataframe\">\n",
       "  <thead>\n",
       "    <tr style=\"text-align: right;\">\n",
       "      <th></th>\n",
       "      <th>Unnamed: 0</th>\n",
       "      <th>Case Number</th>\n",
       "      <th>Date</th>\n",
       "      <th>Year</th>\n",
       "      <th>Type</th>\n",
       "      <th>Country</th>\n",
       "      <th>Area</th>\n",
       "      <th>Location</th>\n",
       "      <th>Activity</th>\n",
       "      <th>Name</th>\n",
       "      <th>Sex</th>\n",
       "      <th>Age</th>\n",
       "      <th>Injury</th>\n",
       "      <th>Time</th>\n",
       "      <th>Fatal</th>\n",
       "      <th>NotFatal</th>\n",
       "      <th>Species</th>\n",
       "      <th>fiveYears</th>\n",
       "    </tr>\n",
       "  </thead>\n",
       "  <tbody>\n",
       "    <tr>\n",
       "      <th>0</th>\n",
       "      <td>17</td>\n",
       "      <td>2018.04.30.R</td>\n",
       "      <td>Reported 30-Apr-2018</td>\n",
       "      <td>2018</td>\n",
       "      <td>Unprovoked</td>\n",
       "      <td>THAILAND</td>\n",
       "      <td>Hua Hin</td>\n",
       "      <td>Sai Noi Beach</td>\n",
       "      <td>Swimming</td>\n",
       "      <td>female</td>\n",
       "      <td>M</td>\n",
       "      <td>unknown</td>\n",
       "      <td>Minor injury to ankle</td>\n",
       "      <td>unknown</td>\n",
       "      <td>0</td>\n",
       "      <td>1</td>\n",
       "      <td>tiger</td>\n",
       "      <td>2015</td>\n",
       "    </tr>\n",
       "    <tr>\n",
       "      <th>1</th>\n",
       "      <td>14</td>\n",
       "      <td>2018.05.00</td>\n",
       "      <td>May 2018</td>\n",
       "      <td>2018</td>\n",
       "      <td>Provoked</td>\n",
       "      <td>AUSTRALIA</td>\n",
       "      <td>Westerm Australia</td>\n",
       "      <td>Dugong Bay</td>\n",
       "      <td>Feeding sharks</td>\n",
       "      <td>Melisa Brunning</td>\n",
       "      <td>F</td>\n",
       "      <td>34</td>\n",
       "      <td>Shallow lacerations to finger PROVOKED INCIDENT</td>\n",
       "      <td>unknown</td>\n",
       "      <td>0</td>\n",
       "      <td>1</td>\n",
       "      <td>blacktip</td>\n",
       "      <td>2015</td>\n",
       "    </tr>\n",
       "    <tr>\n",
       "      <th>2</th>\n",
       "      <td>37</td>\n",
       "      <td>2018.03.09.b</td>\n",
       "      <td>9-Mar-2018</td>\n",
       "      <td>2018</td>\n",
       "      <td>Unprovoked</td>\n",
       "      <td>AUSTRALIA</td>\n",
       "      <td>Victoria</td>\n",
       "      <td>Lorne</td>\n",
       "      <td>Swimming</td>\n",
       "      <td>Rob Crossland</td>\n",
       "      <td>M</td>\n",
       "      <td>69</td>\n",
       "      <td>No injury, said to have been charged by sharks...</td>\n",
       "      <td>15h30</td>\n",
       "      <td>0</td>\n",
       "      <td>1</td>\n",
       "      <td>unknown</td>\n",
       "      <td>2015</td>\n",
       "    </tr>\n",
       "    <tr>\n",
       "      <th>3</th>\n",
       "      <td>38</td>\n",
       "      <td>2018.03.09.a</td>\n",
       "      <td>9-Mar-2018</td>\n",
       "      <td>2018</td>\n",
       "      <td>Unprovoked</td>\n",
       "      <td>AUSTRALIA</td>\n",
       "      <td>Victoria</td>\n",
       "      <td>Winkipop</td>\n",
       "      <td>Surfing</td>\n",
       "      <td>Lachie Brown</td>\n",
       "      <td>M</td>\n",
       "      <td>18</td>\n",
       "      <td>Minor injury, ankle grazed</td>\n",
       "      <td>07h30</td>\n",
       "      <td>0</td>\n",
       "      <td>1</td>\n",
       "      <td>wobbegong</td>\n",
       "      <td>2015</td>\n",
       "    </tr>\n",
       "    <tr>\n",
       "      <th>4</th>\n",
       "      <td>35</td>\n",
       "      <td>2018.03.31</td>\n",
       "      <td>31-Mar-2018</td>\n",
       "      <td>2018</td>\n",
       "      <td>Unprovoked</td>\n",
       "      <td>USA</td>\n",
       "      <td>Hawaii</td>\n",
       "      <td>Kukio Beach</td>\n",
       "      <td>Stand-Up Paddleboarding</td>\n",
       "      <td>male</td>\n",
       "      <td>M</td>\n",
       "      <td>25</td>\n",
       "      <td>Injuries to right leg &amp; hand</td>\n",
       "      <td>09h30</td>\n",
       "      <td>0</td>\n",
       "      <td>1</td>\n",
       "      <td>small</td>\n",
       "      <td>2015</td>\n",
       "    </tr>\n",
       "  </tbody>\n",
       "</table>\n",
       "</div>"
      ],
      "text/plain": [
       "   Unnamed: 0   Case Number                  Date  Year        Type  \\\n",
       "0          17  2018.04.30.R  Reported 30-Apr-2018  2018  Unprovoked   \n",
       "1          14    2018.05.00              May 2018  2018    Provoked   \n",
       "2          37  2018.03.09.b            9-Mar-2018  2018  Unprovoked   \n",
       "3          38  2018.03.09.a            9-Mar-2018  2018  Unprovoked   \n",
       "4          35    2018.03.31           31-Mar-2018  2018  Unprovoked   \n",
       "\n",
       "     Country               Area       Location                 Activity  \\\n",
       "0   THAILAND            Hua Hin  Sai Noi Beach                 Swimming   \n",
       "1  AUSTRALIA  Westerm Australia     Dugong Bay           Feeding sharks   \n",
       "2  AUSTRALIA           Victoria          Lorne                 Swimming   \n",
       "3  AUSTRALIA           Victoria       Winkipop                  Surfing   \n",
       "4        USA             Hawaii    Kukio Beach  Stand-Up Paddleboarding   \n",
       "\n",
       "              Name Sex       Age  \\\n",
       "0           female    M  unknown   \n",
       "1  Melisa Brunning    F       34   \n",
       "2    Rob Crossland    M       69   \n",
       "3     Lachie Brown    M       18   \n",
       "4             male    M       25   \n",
       "\n",
       "                                              Injury     Time Fatal NotFatal  \\\n",
       "0                              Minor injury to ankle  unknown     0        1   \n",
       "1    Shallow lacerations to finger PROVOKED INCIDENT  unknown     0        1   \n",
       "2  No injury, said to have been charged by sharks...    15h30     0        1   \n",
       "3                         Minor injury, ankle grazed    07h30     0        1   \n",
       "4                       Injuries to right leg & hand    09h30     0        1   \n",
       "\n",
       "     Species fiveYears  \n",
       "0      tiger      2015  \n",
       "1   blacktip      2015  \n",
       "2    unknown      2015  \n",
       "3  wobbegong      2015  \n",
       "4      small      2015  "
      ]
     },
     "metadata": {},
     "output_type": "display_data"
    },
    {
     "data": {
      "text/plain": [
       "2010    555\n",
       "2005    505\n",
       "2000    426\n",
       "2015    418\n",
       "1995    306\n",
       "1990    232\n",
       "1985    196\n",
       "1980    191\n",
       "Name: fiveYears, dtype: int64"
      ]
     },
     "execution_count": 178,
     "metadata": {},
     "output_type": "execute_result"
    }
   ],
   "source": [
    "\n",
    "display(df.head())\n",
    "df[\"fiveYears\"].value_counts()"
   ]
  },
  {
   "cell_type": "markdown",
   "metadata": {},
   "source": [
    "# Focus on Fatal vs not Fatal attacks  "
   ]
  },
  {
   "cell_type": "code",
   "execution_count": 184,
   "metadata": {},
   "outputs": [
    {
     "name": "stderr",
     "output_type": "stream",
     "text": [
      "/Library/Frameworks/Python.framework/Versions/3.6/lib/python3.6/site-packages/ipykernel_launcher.py:5: SettingWithCopyWarning: \n",
      "A value is trying to be set on a copy of a slice from a DataFrame.\n",
      "Try using .loc[row_indexer,col_indexer] = value instead\n",
      "\n",
      "See the caveats in the documentation: http://pandas.pydata.org/pandas-docs/stable/indexing.html#indexing-view-versus-copy\n",
      "  \"\"\"\n",
      "/Library/Frameworks/Python.framework/Versions/3.6/lib/python3.6/site-packages/ipykernel_launcher.py:6: SettingWithCopyWarning: \n",
      "A value is trying to be set on a copy of a slice from a DataFrame.\n",
      "Try using .loc[row_indexer,col_indexer] = value instead\n",
      "\n",
      "See the caveats in the documentation: http://pandas.pydata.org/pandas-docs/stable/indexing.html#indexing-view-versus-copy\n",
      "  \n"
     ]
    },
    {
     "data": {
      "text/plain": [
       "<matplotlib.axes._subplots.AxesSubplot at 0x1117a0f60>"
      ]
     },
     "execution_count": 184,
     "metadata": {},
     "output_type": "execute_result"
    },
    {
     "data": {
      "image/png": "[encoded data removed]",
      "text/plain": [
       "<matplotlib.figure.Figure at 0x111deaef0>"
      ]
     },
     "metadata": {},
     "output_type": "display_data"
    }
   ],
   "source": [
    "#cration of a temp database discarding 'unknown' values\n",
    "\n",
    "#print(type(df.loc[(df[\"Fatal\" ] != 'unknown')]))\n",
    "temp=df[df[\"Fatal\" ] != 'unknown']\n",
    "temp[\"Fatal\"]=pd.to_numeric(temp[\"Fatal\"])\n",
    "temp[\"NotFatal\"]=pd.to_numeric(temp[\"NotFatal\"])\n",
    "\n",
    "#discard the old entries(previous than 1970)\n",
    "temp=temp[temp['Year'] > 1970]\n",
    "\n",
    "#plot of the 'Fatal' and 'NotFatal' values during the 5 years bins\n",
    "\n",
    "%matplotlib inline\n",
    "temp.groupby(\"fiveYears\").agg({\"Fatal\": \"sum\",\"NotFatal\":\"sum\"}).plot.bar()\n",
    "\n"
   ]
  },
  {
   "cell_type": "code",
   "execution_count": 180,
   "metadata": {},
   "outputs": [
    {
     "data": {
      "text/html": [
       "<div>\n",
       "<style>\n",
       "    .dataframe thead tr:only-child th {\n",
       "        text-align: right;\n",
       "    }\n",
       "\n",
       "    .dataframe thead th {\n",
       "        text-align: left;\n",
       "    }\n",
       "\n",
       "    .dataframe tbody tr th {\n",
       "        vertical-align: top;\n",
       "    }\n",
       "</style>\n",
       "<table border=\"1\" class=\"dataframe\">\n",
       "  <thead>\n",
       "    <tr style=\"text-align: right;\">\n",
       "      <th></th>\n",
       "      <th>Fatal</th>\n",
       "      <th>NotFatal</th>\n",
       "    </tr>\n",
       "  </thead>\n",
       "  <tbody>\n",
       "    <tr>\n",
       "      <th>count</th>\n",
       "      <td>24.000000</td>\n",
       "      <td>24.000000</td>\n",
       "    </tr>\n",
       "    <tr>\n",
       "      <th>mean</th>\n",
       "      <td>13.000000</td>\n",
       "      <td>103.875000</td>\n",
       "    </tr>\n",
       "    <tr>\n",
       "      <th>std</th>\n",
       "      <td>19.203713</td>\n",
       "      <td>134.063357</td>\n",
       "    </tr>\n",
       "    <tr>\n",
       "      <th>min</th>\n",
       "      <td>0.000000</td>\n",
       "      <td>5.000000</td>\n",
       "    </tr>\n",
       "    <tr>\n",
       "      <th>25%</th>\n",
       "      <td>0.000000</td>\n",
       "      <td>16.250000</td>\n",
       "    </tr>\n",
       "    <tr>\n",
       "      <th>50%</th>\n",
       "      <td>1.000000</td>\n",
       "      <td>28.500000</td>\n",
       "    </tr>\n",
       "    <tr>\n",
       "      <th>75%</th>\n",
       "      <td>25.250000</td>\n",
       "      <td>144.750000</td>\n",
       "    </tr>\n",
       "    <tr>\n",
       "      <th>max</th>\n",
       "      <td>51.000000</td>\n",
       "      <td>425.000000</td>\n",
       "    </tr>\n",
       "  </tbody>\n",
       "</table>\n",
       "</div>"
      ],
      "text/plain": [
       "           Fatal    NotFatal\n",
       "count  24.000000   24.000000\n",
       "mean   13.000000  103.875000\n",
       "std    19.203713  134.063357\n",
       "min     0.000000    5.000000\n",
       "25%     0.000000   16.250000\n",
       "50%     1.000000   28.500000\n",
       "75%    25.250000  144.750000\n",
       "max    51.000000  425.000000"
      ]
     },
     "execution_count": 180,
     "metadata": {},
     "output_type": "execute_result"
    }
   ],
   "source": [
    "temp1=temp.groupby([\"fiveYears\",\"Type\"]).agg({\"Fatal\": \"sum\",\"NotFatal\":\"sum\"})\n",
    "temp1.describe()"
   ]
  },
  {
   "cell_type": "code",
   "execution_count": 181,
   "metadata": {},
   "outputs": [],
   "source": [
    "#the highest number of reported attacks are in the bin 20"
   ]
  },
  {
   "cell_type": "markdown",
   "metadata": {},
   "source": [
    "# Focus on type of attacks resulted in fatal outcome"
   ]
  },
  {
   "cell_type": "code",
   "execution_count": 182,
   "metadata": {},
   "outputs": [
    {
     "data": {
      "text/plain": [
       "<matplotlib.axes._subplots.AxesSubplot at 0x110f0f860>"
      ]
     },
     "execution_count": 182,
     "metadata": {},
     "output_type": "execute_result"
    },
    {
     "data": {
      "image/png": "[encoded data removed]",
      "text/plain": [
       "<matplotlib.figure.Figure at 0x111b0b320>"
      ]
     },
     "metadata": {},
     "output_type": "display_data"
    }
   ],
   "source": [
    "\n",
    "temp1.groupby(\"Type\").agg({\"Fatal\": \"sum\",\"NotFatal\":\"sum\"}).plot.bar(rot=0,ylim=(0,2500))\n",
    "#temp.head()"
   ]
  },
  {
   "cell_type": "code",
   "execution_count": 139,
   "metadata": {},
   "outputs": [],
   "source": [
    "#Most of the fatal attacks are the result of \"unprovocked\" Sharcks attacks. This shows that the sharks are predators."
   ]
  },
  {
   "cell_type": "markdown",
   "metadata": {},
   "source": [
    "# Focus on most dangerous species well represented in the data"
   ]
  },
  {
   "cell_type": "code",
   "execution_count": 188,
   "metadata": {},
   "outputs": [
    {
     "name": "stderr",
     "output_type": "stream",
     "text": [
      "/Library/Frameworks/Python.framework/Versions/3.6/lib/python3.6/site-packages/ipykernel_launcher.py:6: SettingWithCopyWarning: \n",
      "A value is trying to be set on a copy of a slice from a DataFrame.\n",
      "Try using .loc[row_indexer,col_indexer] = value instead\n",
      "\n",
      "See the caveats in the documentation: http://pandas.pydata.org/pandas-docs/stable/indexing.html#indexing-view-versus-copy\n",
      "  \n"
     ]
    },
    {
     "data": {
      "image/png": "[encoded data removed]",
      "text/plain": [
       "<matplotlib.figure.Figure at 0x11216d080>"
      ]
     },
     "metadata": {},
     "output_type": "display_data"
    }
   ],
   "source": [
    "#I am considering only the top 5 most relevant species\n",
    "top5=temp['Species'].value_counts()[1:6].index\n",
    "#temporal dataframe\n",
    "temp2=temp[temp['Species'].isin(top5)]\n",
    "temp2.groupby(\"Species\").agg({\"Fatal\": \"sum\",\"NotFatal\":\"sum\"}).plot.bar()\n",
    "\n"
   ]
  },
  {
   "cell_type": "code",
   "execution_count": 217,
   "metadata": {},
   "outputs": [
    {
     "data": {
      "text/plain": [
       "<matplotlib.axes._subplots.AxesSubplot at 0x112d719e8>"
      ]
     },
     "execution_count": 217,
     "metadata": {},
     "output_type": "execute_result"
    },
    {
     "data": {
      "image/png": "[encoded data removed]",
      "text/plain": [
       "<matplotlib.figure.Figure at 0x112a34518>"
      ]
     },
     "metadata": {},
     "output_type": "display_data"
    }
   ],
   "source": [
    "temp3=temp2.groupby('Species').agg({\"Fatal\": \"sum\",\"NotFatal\": \"sum\"})\n",
    "\n",
    "temp3['FatalityPerc']= temp3['Fatal'] / (temp3['Fatal'] +temp3['NotFatal'])\n",
    "temp3=temp3.reset_index().sort_values(\"FatalityPerc\")\n",
    "\n",
    "temp3.groupby('Species').agg({\"FatalityPerc\": \"sum\"}).plot.bar()"
   ]
  },
  {
   "cell_type": "code",
   "execution_count": 224,
   "metadata": {},
   "outputs": [
    {
     "data": {
      "text/html": [
       "<div>\n",
       "<style>\n",
       "    .dataframe thead tr:only-child th {\n",
       "        text-align: right;\n",
       "    }\n",
       "\n",
       "    .dataframe thead th {\n",
       "        text-align: left;\n",
       "    }\n",
       "\n",
       "    .dataframe tbody tr th {\n",
       "        vertical-align: top;\n",
       "    }\n",
       "</style>\n",
       "<table border=\"1\" class=\"dataframe\">\n",
       "  <thead>\n",
       "    <tr style=\"text-align: right;\">\n",
       "      <th></th>\n",
       "      <th>index</th>\n",
       "      <th>Species</th>\n",
       "      <th>Fatal</th>\n",
       "      <th>NotFatal</th>\n",
       "      <th>FatalityPerc</th>\n",
       "    </tr>\n",
       "  </thead>\n",
       "  <tbody>\n",
       "    <tr>\n",
       "      <th>4</th>\n",
       "      <td>4</td>\n",
       "      <td>white</td>\n",
       "      <td>62</td>\n",
       "      <td>385</td>\n",
       "      <td>0.138702</td>\n",
       "    </tr>\n",
       "    <tr>\n",
       "      <th>3</th>\n",
       "      <td>0</td>\n",
       "      <td>blacktip</td>\n",
       "      <td>6</td>\n",
       "      <td>46</td>\n",
       "      <td>0.115385</td>\n",
       "    </tr>\n",
       "    <tr>\n",
       "      <th>2</th>\n",
       "      <td>2</td>\n",
       "      <td>reef</td>\n",
       "      <td>6</td>\n",
       "      <td>47</td>\n",
       "      <td>0.113208</td>\n",
       "    </tr>\n",
       "    <tr>\n",
       "      <th>1</th>\n",
       "      <td>3</td>\n",
       "      <td>tiger</td>\n",
       "      <td>19</td>\n",
       "      <td>156</td>\n",
       "      <td>0.108571</td>\n",
       "    </tr>\n",
       "    <tr>\n",
       "      <th>0</th>\n",
       "      <td>1</td>\n",
       "      <td>bull</td>\n",
       "      <td>11</td>\n",
       "      <td>126</td>\n",
       "      <td>0.080292</td>\n",
       "    </tr>\n",
       "  </tbody>\n",
       "</table>\n",
       "</div>"
      ],
      "text/plain": [
       "   index   Species  Fatal  NotFatal  FatalityPerc\n",
       "4      4     white     62       385      0.138702\n",
       "3      0  blacktip      6        46      0.115385\n",
       "2      2      reef      6        47      0.113208\n",
       "1      3     tiger     19       156      0.108571\n",
       "0      1      bull     11       126      0.080292"
      ]
     },
     "metadata": {},
     "output_type": "display_data"
    }
   ],
   "source": [
    "display(temp3.reset_index().sort_values('FatalityPerc',ascending=False))"
   ]
  },
  {
   "cell_type": "code",
   "execution_count": null,
   "metadata": {},
   "outputs": [],
   "source": [
    "#A meeting with a white shark represents the highest fatality probaility "
   ]
  }
 ],
 "metadata": {
  "kernelspec": {
   "display_name": "Python 3",
   "language": "python",
   "name": "python3"
  },
  "language_info": {
   "codemirror_mode": {
    "name": "ipython",
    "version": 3
   },
   "file_extension": ".py",
   "mimetype": "text/x-python",
   "name": "python",
   "nbconvert_exporter": "python",
   "pygments_lexer": "ipython3",
   "version": "3.6.2"
  }
 },
 "nbformat": 4,
 "nbformat_minor": 2
}
